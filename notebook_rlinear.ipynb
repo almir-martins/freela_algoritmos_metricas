{
 "cells": [
  {
   "cell_type": "markdown",
   "metadata": {},
   "source": [
    "# 1 - CONFIGURAÇÕES INICIAIS"
   ]
  },
  {
   "cell_type": "markdown",
   "metadata": {},
   "source": [
    "## 1.1. IMPORTS"
   ]
  },
  {
   "cell_type": "code",
   "execution_count": 112,
   "metadata": {
    "ExecuteTime": {
     "end_time": "2022-04-01T23:05:44.015164Z",
     "start_time": "2022-04-01T23:05:44.001171Z"
    }
   },
   "outputs": [],
   "source": [
    "import warnings\n",
    "import numpy                    as np\n",
    "import pandas                   as pd\n",
    "import seaborn                  as sns\n",
    "import matplotlib.pyplot        as plt\n",
    "from IPython.core.display       import HTML\n",
    "from IPython.display            import Image\n",
    "from matplotlib                 import ticker\n",
    "from sklearn.model_selection    import LeaveOneOut\n",
    "from sklearn                    import manifold as MDS\n",
    "from sklearn.model_selection    import cross_val_score\n",
    "from sklearn.model_selection    import train_test_split\n",
    "from sklearn.linear_model       import LinearRegression\n",
    "from numpy                      import mean, absolute, sqrt\n",
    "from sklearn.linear_model       import Ridge, Lasso, ElasticNet\n",
    "from sklearn.preprocessing      import RobustScaler, MinMaxScaler"
   ]
  },
  {
   "cell_type": "markdown",
   "metadata": {},
   "source": [
    "## 1.2. GRÁFICOS E NÚMEROS"
   ]
  },
  {
   "cell_type": "code",
   "execution_count": 113,
   "metadata": {
    "ExecuteTime": {
     "end_time": "2022-04-01T23:02:22.838817Z",
     "start_time": "2022-04-01T23:02:20.770Z"
    }
   },
   "outputs": [
    {
     "data": {
      "text/html": [
       "<style>.conteiner{width:100% !important;}</style>"
      ],
      "text/plain": [
       "<IPython.core.display.HTML object>"
      ]
     },
     "metadata": {},
     "output_type": "display_data"
    }
   ],
   "source": [
    "# Configura os gráficos\n",
    "def jupyter_settings():\n",
    "    %matplotlib inline\n",
    "\n",
    "    plt.style.use('bmh')\n",
    "    plt.rcParams['figure.figsize'] = [25, 12]\n",
    "    plt.rcParams['font.size'] = 24\n",
    "\n",
    "    display(HTML('<style>.conteiner{width:100% !important;}</style>'))\n",
    "\n",
    "    pd.options.display.max_columns = None\n",
    "    pd.options.display.max_rows = None\n",
    "    pd.set_option('display.expand_frame_repr', False)\n",
    "    # configura o pandas para quantidade de casas decimeis\n",
    "    pd.set_option('display.float_format', lambda x: '%.4f' % x)\n",
    "    # Ignorar os warnings\n",
    "    warnings.filterwarnings(\"ignore\")\n",
    "\n",
    "    sns.set()\n",
    "jupyter_settings()"
   ]
  },
  {
   "cell_type": "markdown",
   "metadata": {},
   "source": [
    "## 1.3. CARREGANDO OS DADOS\n",
    "## Dataset do site Kaggle: \"https://www.kaggle.com/datasets/camnugent/california-housing-prices\""
   ]
  },
  {
   "cell_type": "code",
   "execution_count": 114,
   "metadata": {
    "ExecuteTime": {
     "end_time": "2022-04-01T23:02:22.842815Z",
     "start_time": "2022-04-01T23:02:20.790Z"
    }
   },
   "outputs": [],
   "source": [
    "df1 = pd.read_csv('housing.csv')"
   ]
  },
  {
   "cell_type": "markdown",
   "metadata": {},
   "source": [
    "# 2 - EXTRAÇÃO, CARGA E TRANSFORMAÇÃO DOS DADOS"
   ]
  },
  {
   "cell_type": "markdown",
   "metadata": {},
   "source": [
    "## 2.1. Renomeando as colunas"
   ]
  },
  {
   "cell_type": "code",
   "execution_count": 115,
   "metadata": {
    "ExecuteTime": {
     "end_time": "2022-04-01T23:02:22.847813Z",
     "start_time": "2022-04-01T23:02:20.827Z"
    }
   },
   "outputs": [],
   "source": [
    "col_new = [\n",
    "    'long', 'lat', 'age', 'rooms', 'bedrooms', 'population', \n",
    "    'households', 'income', 'value', 'ocean_proximity'\n",
    "    ]\n",
    "df1.columns = col_new"
   ]
  },
  {
   "cell_type": "markdown",
   "metadata": {},
   "source": [
    "## 2.2. DIMENSÕES DOS DADOS"
   ]
  },
  {
   "cell_type": "code",
   "execution_count": 116,
   "metadata": {
    "ExecuteTime": {
     "end_time": "2022-04-01T23:02:22.849134Z",
     "start_time": "2022-04-01T23:02:20.842Z"
    }
   },
   "outputs": [
    {
     "name": "stdout",
     "output_type": "stream",
     "text": [
      "Número de linhas: 20640\n",
      "Número de colunas: 10\n"
     ]
    }
   ],
   "source": [
    "print(f'Número de linhas: {df1.shape[0]}')\n",
    "print(f'Número de colunas: {df1.shape[1]}')"
   ]
  },
  {
   "cell_type": "markdown",
   "metadata": {},
   "source": [
    "## 2.3. CHECANDO E TRATANDO DADOS FALTANTES"
   ]
  },
  {
   "cell_type": "code",
   "execution_count": 117,
   "metadata": {
    "ExecuteTime": {
     "end_time": "2022-04-01T23:02:22.856836Z",
     "start_time": "2022-04-01T23:02:20.890Z"
    }
   },
   "outputs": [
    {
     "data": {
      "text/plain": [
       "long               0\n",
       "lat                0\n",
       "age                0\n",
       "rooms              0\n",
       "bedrooms           0\n",
       "population         0\n",
       "households         0\n",
       "income             0\n",
       "value              0\n",
       "ocean_proximity    0\n",
       "dtype: int64"
      ]
     },
     "execution_count": 117,
     "metadata": {},
     "output_type": "execute_result"
    }
   ],
   "source": [
    "df1 = df1.dropna()\n",
    "df1.isna().sum()"
   ]
  },
  {
   "cell_type": "markdown",
   "metadata": {},
   "source": [
    "## 2.4. CHECANDO OS TIPOS DOS DADOS"
   ]
  },
  {
   "cell_type": "code",
   "execution_count": 118,
   "metadata": {
    "ExecuteTime": {
     "end_time": "2022-04-01T23:02:22.851838Z",
     "start_time": "2022-04-01T23:02:20.857Z"
    }
   },
   "outputs": [
    {
     "data": {
      "text/plain": [
       "long               float64\n",
       "lat                float64\n",
       "age                float64\n",
       "rooms              float64\n",
       "bedrooms           float64\n",
       "population         float64\n",
       "households         float64\n",
       "income             float64\n",
       "value              float64\n",
       "ocean_proximity     object\n",
       "dtype: object"
      ]
     },
     "execution_count": 118,
     "metadata": {},
     "output_type": "execute_result"
    }
   ],
   "source": [
    "df1.dtypes"
   ]
  },
  {
   "cell_type": "markdown",
   "metadata": {},
   "source": [
    "## 2.5. ALTERANDO OS TIPOS DE DADOS"
   ]
  },
  {
   "cell_type": "code",
   "execution_count": 119,
   "metadata": {},
   "outputs": [],
   "source": [
    "df1.age = df1.age.astype('int32')\n",
    "df1.rooms = df1.rooms.astype('int32')\n",
    "df1.bedrooms = df1.bedrooms.astype('int32')\n",
    "df1.population = df1.population.astype('int32')\n",
    "df1.households = df1.households.astype('int32')\n",
    "df1.income = round(df1.income.astype('float32'), 2)\n",
    "df1.value = round(df1.value.astype('float32'), 2)\n",
    "df1.lat = df1.lat.astype('float32')\n",
    "df1.long = df1.long.astype('float32')"
   ]
  },
  {
   "cell_type": "markdown",
   "metadata": {},
   "source": [
    "# 3 - VERIFICANDO AS DISTRIBUIÇÕES E PREPARANDO A BASE"
   ]
  },
  {
   "cell_type": "markdown",
   "metadata": {},
   "source": [
    "## 3.1. ELIMINANDO REDUNDÂNCIA"
   ]
  },
  {
   "cell_type": "code",
   "execution_count": 120,
   "metadata": {},
   "outputs": [],
   "source": [
    "df2 = df1.drop(columns=['ocean_proximity', 'lat', 'long'])"
   ]
  },
  {
   "cell_type": "markdown",
   "metadata": {},
   "source": [
    "## 3.2. VERIFICANDO OS OUTLIERS\n"
   ]
  },
  {
   "cell_type": "code",
   "execution_count": 121,
   "metadata": {},
   "outputs": [
    {
     "data": {
      "image/png": "[encoded data removed]",
      "text/plain": [
       "<Figure size 1800x864 with 6 Axes>"
      ]
     },
     "metadata": {},
     "output_type": "display_data"
    }
   ],
   "source": [
    "plt.subplot(3, 2, 1)\n",
    "sns.boxplot(data=df2.age, orient=\"h\").set_title('Age');\n",
    "\n",
    "plt.subplot(3, 2, 2)\n",
    "sns.boxplot(data=df2.rooms, orient=\"h\").set_title('Rooms');\n",
    "\n",
    "plt.subplot(3, 2, 3)\n",
    "sns.boxplot(data=df2.population, orient=\"h\").set_title('Population');\n",
    "\n",
    "plt.subplot(3, 2, 4)\n",
    "sns.boxplot(data=df2.income, orient=\"h\").set_title('Income');\n",
    "\n",
    "plt.subplot(3, 2, 5)\n",
    "sns.boxplot(data=df2.bedrooms, orient=\"h\").set_title('Bedrooms');\n",
    "\n",
    "plt.subplot(3, 2, 6)\n",
    "sns.boxplot(data=df2.households, orient=\"h\").set_title('Households');\n"
   ]
  },
  {
   "cell_type": "markdown",
   "metadata": {},
   "source": [
    "## 3.3. MUDANDO A ESCALA DAS FEATURES"
   ]
  },
  {
   "cell_type": "code",
   "execution_count": 122,
   "metadata": {},
   "outputs": [],
   "source": [
    "ms = MinMaxScaler() # poucos outliers\n",
    "rs = RobustScaler() # muitos outliers\n",
    "\n",
    "df2.age = ms.fit_transform(df2[['age']].values)\n",
    "df2.rooms = rs.fit_transform(df2[['rooms']].values)\n",
    "df2.population = rs.fit_transform(df2[['population']].values)\n",
    "df2.income = rs.fit_transform(df2[['income']].values)\n",
    "df2.households = rs.fit_transform(df2[['households']].values)\n",
    "df2.bedrooms = rs.fit_transform(df2[['bedrooms']].values)"
   ]
  },
  {
   "cell_type": "markdown",
   "metadata": {},
   "source": [
    "## 3.4. VERIFICANDO A DISTRIBUIÇÃO DA VARIÁVEL RESPOSTA"
   ]
  },
  {
   "cell_type": "code",
   "execution_count": 123,
   "metadata": {},
   "outputs": [
    {
     "data": {
      "image/png": "[encoded data removed]",
      "text/plain": [
       "<Figure size 1800x864 with 1 Axes>"
      ]
     },
     "metadata": {},
     "output_type": "display_data"
    }
   ],
   "source": [
    "sns.histplot(df2.value).set_title('Variável resposta');"
   ]
  },
  {
   "cell_type": "markdown",
   "metadata": {},
   "source": [
    "## 3.5. AJUSTANDO A DISTRIBUIÇÃO DA VARIÁVEL RESPOSTA"
   ]
  },
  {
   "cell_type": "code",
   "execution_count": 124,
   "metadata": {},
   "outputs": [
    {
     "data": {
      "image/png": "[encoded data removed]",
      "text/plain": [
       "<Figure size 1800x864 with 1 Axes>"
      ]
     },
     "metadata": {},
     "output_type": "display_data"
    }
   ],
   "source": [
    "df2['value'] = np.log1p(df2.value)\n",
    "sns.histplot(df2.value).set_title('Variável resposta ajustada');"
   ]
  },
  {
   "cell_type": "markdown",
   "metadata": {},
   "source": [
    "## 3.6. DIVIDINDO O DATASET EM TREINO E TESTE"
   ]
  },
  {
   "cell_type": "code",
   "execution_count": 125,
   "metadata": {},
   "outputs": [],
   "source": [
    "x_train, x_test, y_train, y_test = train_test_split(\n",
    "    df2.drop(columns=['value']), df2['value'],\n",
    "    test_size = 0.25)"
   ]
  },
  {
   "cell_type": "markdown",
   "metadata": {},
   "source": [
    "# 4 - APLICANDO OS MODELOS"
   ]
  },
  {
   "cell_type": "markdown",
   "metadata": {},
   "source": [
    "## 4.1. REGRESSÃO LINEAR"
   ]
  },
  {
   "cell_type": "code",
   "execution_count": 126,
   "metadata": {},
   "outputs": [],
   "source": [
    "# Tabela de comparação dos modelos\n",
    "reg_metrics = pd.DataFrame(columns=['Modelo', 'MSE'])\n",
    "\n",
    "# Aplicando regressão linear\n",
    "lreg = LinearRegression()\n",
    "lreg.fit(x_train, y_train)\n",
    " \n",
    "# Gerando a predição na porção de teste \n",
    "lreg_y_pred = lreg.predict(x_test)\n",
    "\n",
    "# Calculando o MSE (Erro médio quadrado) \n",
    "lr_mse = np.mean((lreg_y_pred - y_test)**2)\n",
    "\n",
    "reg_metrics.loc[len(reg_metrics), reg_metrics.columns] = 'Regressão', lr_mse"
   ]
  },
  {
   "cell_type": "markdown",
   "metadata": {},
   "source": [
    "## 4.2. RIDGE REGRESSION"
   ]
  },
  {
   "cell_type": "code",
   "execution_count": 127,
   "metadata": {},
   "outputs": [],
   "source": [
    "# Aplicando regressão Ridge\n",
    "ridgeR = Ridge(alpha = 1)\n",
    "ridgeR.fit(x_train, y_train)\n",
    "y_pred = ridgeR.predict(x_test)\n",
    " \n",
    "# Calculando o MSE (Erro médio quadrado) \n",
    "ridge_mse = np.mean((y_pred - y_test)**2)\n",
    " \n",
    "reg_metrics.loc[len(reg_metrics), reg_metrics.columns] = 'Ridge', ridge_mse"
   ]
  },
  {
   "cell_type": "markdown",
   "metadata": {},
   "source": [
    "## 4.3. LASSO REGRESSION"
   ]
  },
  {
   "cell_type": "code",
   "execution_count": 128,
   "metadata": {},
   "outputs": [],
   "source": [
    "# Aplicando regressão Lasso\n",
    "lasso = Lasso(alpha = 1)\n",
    "lasso.fit(x_train, y_train)\n",
    "y_pred1 = lasso.predict(x_test)\n",
    " \n",
    "# Calculando o MSE (Erro médio quadrado) \n",
    "lasso_mse = np.mean((y_pred1 - y_test)**2)\n",
    "\n",
    "reg_metrics.loc[len(reg_metrics), reg_metrics.columns] = 'Lasso', lasso_mse"
   ]
  },
  {
   "cell_type": "markdown",
   "metadata": {},
   "source": [
    "## 4.4. ELASTICNET"
   ]
  },
  {
   "cell_type": "code",
   "execution_count": 129,
   "metadata": {},
   "outputs": [],
   "source": [
    "# Aplicando Elasticnet\n",
    "e_net = ElasticNet(alpha = 1)\n",
    "e_net.fit(x_train, y_train)\n",
    "y_pred_elastic = e_net.predict(x_test)\n",
    "\n",
    "# Calculando o MSE (Erro médio quadrado) \n",
    "enet_mse = np.mean((y_pred_elastic - y_test)**2)\n",
    "\n",
    "reg_metrics.loc[len(reg_metrics), reg_metrics.columns] = 'ElasticNet', enet_mse"
   ]
  },
  {
   "cell_type": "markdown",
   "metadata": {},
   "source": [
    "# 5 - APLICANDO OS MODELOS COM CROSS VALIDATION (LEAVE ONE OUT)"
   ]
  },
  {
   "cell_type": "code",
   "execution_count": 130,
   "metadata": {},
   "outputs": [],
   "source": [
    "# Acrescenta coluna de RMSE na tabela de comparação dos modelos\n",
    "reg_metrics['RMSE - LEAVE ONE OUT'] = 0\n",
    "\n",
    "# Instancia o método para o cross validation\n",
    "leave = LeaveOneOut()"
   ]
  },
  {
   "cell_type": "markdown",
   "metadata": {},
   "source": [
    "## 5.1. REGRESSÃO LINEAR (LEAVE ONE OUT)"
   ]
  },
  {
   "cell_type": "code",
   "execution_count": 131,
   "metadata": {},
   "outputs": [],
   "source": [
    "# Aplicando Regressão Linear\n",
    "model = LinearRegression()\n",
    "\n",
    "# Aplicando o Cross Validation (Leave One Out)\n",
    "scores = cross_val_score(model, x_train, y_train, scoring='neg_mean_squared_error',\n",
    "                         cv=leave, n_jobs=-1)\n",
    "\n",
    "# Calculando o RMSE  \n",
    "lr_rmse = sqrt(mean(absolute(scores)))\n",
    "\n",
    "reg_metrics.loc[0, 'RMSE - LEAVE ONE OUT'] = lr_rmse"
   ]
  },
  {
   "cell_type": "markdown",
   "metadata": {},
   "source": [
    "## 5.2. REGRESSÃO RIDGE (LEAVE ONE OUT)"
   ]
  },
  {
   "cell_type": "code",
   "execution_count": 132,
   "metadata": {},
   "outputs": [],
   "source": [
    "# Aplicando regressão Ridge\n",
    "ridgeR = Ridge(alpha = 1)\n",
    "\n",
    "# Aplicando o Cross Validation (Leave One Out)\n",
    "scores = cross_val_score(ridgeR, x_train, y_train, scoring='neg_mean_squared_error',\n",
    "                         cv=leave, n_jobs=-1)\n",
    " \n",
    "# Calculando o RMSE  \n",
    "ridge_mse = sqrt(mean(absolute(scores)))\n",
    "\n",
    "reg_metrics.loc[1, 'RMSE - LEAVE ONE OUT'] = ridge_mse"
   ]
  },
  {
   "cell_type": "markdown",
   "metadata": {},
   "source": [
    "## 5.3. REGRESSÃO LASSO (LEAVE ONE OUT)"
   ]
  },
  {
   "cell_type": "code",
   "execution_count": 133,
   "metadata": {},
   "outputs": [],
   "source": [
    "# Aplicando regressão Lasso\n",
    "lasso = Lasso(alpha = 1)\n",
    "\n",
    "# Aplicando o Cross Validation (Leave One Out)\n",
    "scores = cross_val_score(lasso, x_train, y_train, scoring='neg_mean_squared_error',\n",
    "                         cv=leave, n_jobs=-1)\n",
    " \n",
    "# Calculando o RMSE  \n",
    "lasso_mse = sqrt(mean(absolute(scores)))\n",
    "\n",
    "reg_metrics.loc[2, 'RMSE - LEAVE ONE OUT'] = lasso_mse"
   ]
  },
  {
   "cell_type": "markdown",
   "metadata": {},
   "source": [
    "## 5.4. ELASTICNET (LEAVE ONE OUT)"
   ]
  },
  {
   "cell_type": "code",
   "execution_count": 134,
   "metadata": {},
   "outputs": [],
   "source": [
    "# Aplicando Elasticnet\n",
    "e_net = ElasticNet(alpha = 1)\n",
    "\n",
    "# Aplicando o Cross Validation (Leave One Out)\n",
    "scores = cross_val_score(e_net, x_train, y_train, scoring='neg_mean_squared_error',\n",
    "                         cv=leave, n_jobs=-1)\n",
    " \n",
    "# Calculando o RMSE  \n",
    "enet_mse = sqrt(mean(absolute(scores)))\n",
    "\n",
    "reg_metrics.loc[3, 'RMSE - LEAVE ONE OUT'] = enet_mse"
   ]
  },
  {
   "cell_type": "markdown",
   "metadata": {},
   "source": [
    "# 6 - COMPARAÇÃO DOS MODELOS"
   ]
  },
  {
   "cell_type": "markdown",
   "metadata": {},
   "source": [
    "## 6.1. TABELA COMPARATIVA"
   ]
  },
  {
   "cell_type": "code",
   "execution_count": 135,
   "metadata": {},
   "outputs": [
    {
     "data": {
      "text/html": [
       "<div>\n",
       "<style scoped>\n",
       "    .dataframe tbody tr th:only-of-type {\n",
       "        vertical-align: middle;\n",
       "    }\n",
       "\n",
       "    .dataframe tbody tr th {\n",
       "        vertical-align: top;\n",
       "    }\n",
       "\n",
       "    .dataframe thead th {\n",
       "        text-align: right;\n",
       "    }\n",
       "</style>\n",
       "<table border=\"1\" class=\"dataframe\">\n",
       "  <thead>\n",
       "    <tr style=\"text-align: right;\">\n",
       "      <th></th>\n",
       "      <th>Modelo</th>\n",
       "      <th>MSE</th>\n",
       "      <th>RMSE - LEAVE ONE OUT</th>\n",
       "    </tr>\n",
       "  </thead>\n",
       "  <tbody>\n",
       "    <tr>\n",
       "      <th>0</th>\n",
       "      <td>Regressão</td>\n",
       "      <td>0.1521</td>\n",
       "      <td>0.3974</td>\n",
       "    </tr>\n",
       "    <tr>\n",
       "      <th>1</th>\n",
       "      <td>Ridge</td>\n",
       "      <td>0.1521</td>\n",
       "      <td>0.3974</td>\n",
       "    </tr>\n",
       "    <tr>\n",
       "      <th>2</th>\n",
       "      <td>Lasso</td>\n",
       "      <td>0.3233</td>\n",
       "      <td>0.5694</td>\n",
       "    </tr>\n",
       "    <tr>\n",
       "      <th>3</th>\n",
       "      <td>ElasticNet</td>\n",
       "      <td>0.3233</td>\n",
       "      <td>0.5694</td>\n",
       "    </tr>\n",
       "  </tbody>\n",
       "</table>\n",
       "</div>"
      ],
      "text/plain": [
       "       Modelo    MSE  RMSE - LEAVE ONE OUT\n",
       "0   Regressão 0.1521                0.3974\n",
       "1       Ridge 0.1521                0.3974\n",
       "2       Lasso 0.3233                0.5694\n",
       "3  ElasticNet 0.3233                0.5694"
      ]
     },
     "metadata": {},
     "output_type": "display_data"
    }
   ],
   "source": [
    "display(reg_metrics)"
   ]
  },
  {
   "cell_type": "markdown",
   "metadata": {},
   "source": [
    "## 6.2. PLOT ERRO MÉDIO QUADRADO (MSE)"
   ]
  },
  {
   "cell_type": "code",
   "execution_count": 136,
   "metadata": {},
   "outputs": [
    {
     "data": {
      "image/png": "[encoded data removed]",
      "text/plain": [
       "<Figure size 1800x864 with 1 Axes>"
      ]
     },
     "metadata": {},
     "output_type": "display_data"
    }
   ],
   "source": [
    "sns.set_palette(\"husl\")\n",
    "sns.barplot(x='Modelo', y='RMSE - LEAVE ONE OUT', data=reg_metrics);\n",
    "sns.lineplot(x='Modelo', y='MSE', data=reg_metrics, linewidth=2.5, color='red' ).set_title('MSE vs RMSE - LEAVE ONE OUT');\n"
   ]
  }
 ],
 "metadata": {
  "kernelspec": {
   "display_name": "Python 3.8.8 ('ds_em_producao': venv)",
   "language": "python",
   "name": "python3"
  },
  "language_info": {
   "codemirror_mode": {
    "name": "ipython",
    "version": 3
   },
   "file_extension": ".py",
   "mimetype": "text/x-python",
   "name": "python",
   "nbconvert_exporter": "python",
   "pygments_lexer": "ipython3",
   "version": "3.8.8"
  },
  "orig_nbformat": 4,
  "vscode": {
   "interpreter": {
    "hash": "a7147a394fc8238dba7a84411466eadaf2ecd9a7822133cebd1634c6e1ee9eb3"
   }
  }
 },
 "nbformat": 4,
 "nbformat_minor": 2
}
